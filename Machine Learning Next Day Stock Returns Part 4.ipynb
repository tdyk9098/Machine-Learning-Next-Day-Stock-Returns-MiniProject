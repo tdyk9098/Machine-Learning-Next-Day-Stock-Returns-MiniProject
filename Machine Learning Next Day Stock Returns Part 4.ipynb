{
 "cells": [
  {
   "cell_type": "code",
   "execution_count": 1,
   "id": "2449f1c6",
   "metadata": {},
   "outputs": [
    {
     "data": {
      "text/html": [
       "        <script type=\"text/javascript\">\n",
       "        window.PlotlyConfig = {MathJaxConfig: 'local'};\n",
       "        if (window.MathJax && window.MathJax.Hub && window.MathJax.Hub.Config) {window.MathJax.Hub.Config({SVG: {font: \"STIX-Web\"}});}\n",
       "        if (typeof require !== 'undefined') {\n",
       "        require.undef(\"plotly\");\n",
       "        requirejs.config({\n",
       "            paths: {\n",
       "                'plotly': ['https://cdn.plot.ly/plotly-2.12.1.min']\n",
       "            }\n",
       "        });\n",
       "        require(['plotly'], function(Plotly) {\n",
       "            window._Plotly = Plotly;\n",
       "        });\n",
       "        }\n",
       "        </script>\n",
       "        "
      ]
     },
     "metadata": {},
     "output_type": "display_data"
    },
    {
     "data": {
      "text/html": [
       "        <script type=\"text/javascript\">\n",
       "        window.PlotlyConfig = {MathJaxConfig: 'local'};\n",
       "        if (window.MathJax && window.MathJax.Hub && window.MathJax.Hub.Config) {window.MathJax.Hub.Config({SVG: {font: \"STIX-Web\"}});}\n",
       "        if (typeof require !== 'undefined') {\n",
       "        require.undef(\"plotly\");\n",
       "        requirejs.config({\n",
       "            paths: {\n",
       "                'plotly': ['https://cdn.plot.ly/plotly-2.12.1.min']\n",
       "            }\n",
       "        });\n",
       "        require(['plotly'], function(Plotly) {\n",
       "            window._Plotly = Plotly;\n",
       "        });\n",
       "        }\n",
       "        </script>\n",
       "        "
      ]
     },
     "metadata": {},
     "output_type": "display_data"
    }
   ],
   "source": [
    "# imports\n",
    "import pandas as pd\n",
    "import numpy as np\n",
    "import seaborn as sns\n",
    "import matplotlib.pyplot as plt\n",
    "import plotly\n",
    "import cufflinks as cf\n",
    "from plotly.offline import download_plotlyjs, init_notebook_mode,plot,iplot\n",
    "init_notebook_mode(connected = True)\n",
    "import chart_studio.plotly as py\n",
    "cf.go_offline()\n",
    "%matplotlib inline\n",
    "import pandas_datareader.data as web\n",
    "import datetime as dt\n",
    "\n",
    "# MACHINE LEARNING\n",
    "from sklearn.model_selection import train_test_split\n",
    "# LOGISTIC REGRESSION MODEL IMPORTS\n",
    "from sklearn.linear_model import LogisticRegression\n",
    "from sklearn.metrics import classification_report, confusion_matrix\n",
    "#LINEAR REGRESSION MODEL IMPORTS\n",
    "from sklearn.linear_model import LinearRegression\n",
    "from sklearn import metrics\n",
    "#KNN MODEL IMPORTS\n",
    "from sklearn.preprocessing import StandardScaler\n",
    "from sklearn.neighbors import KNeighborsClassifier\n",
    "#DECISION TREE IMPORTS\n",
    "from sklearn.tree import DecisionTreeClassifier\n",
    "#RANDOM FOREST IMPORTS\n",
    "from sklearn.ensemble import RandomForestClassifier\n",
    "#SUPPORT VECTOR MACHINE\n",
    "from sklearn.svm import SVC\n",
    "from sklearn.model_selection import GridSearchCV"
   ]
  },
  {
   "cell_type": "code",
   "execution_count": 3,
   "id": "a06fcede",
   "metadata": {},
   "outputs": [],
   "source": [
    "# SPY DATA\n",
    "spy0 = web.DataReader('SPY', 'yahoo', start='1993-01-28', end='2022-05-13')"
   ]
  },
  {
   "cell_type": "code",
   "execution_count": 4,
   "id": "3372b4a3",
   "metadata": {},
   "outputs": [],
   "source": [
    "spy0.drop(\"Adj Close\", axis = 1, inplace = True)"
   ]
  },
  {
   "cell_type": "code",
   "execution_count": 5,
   "id": "a0fc526b",
   "metadata": {},
   "outputs": [
    {
     "data": {
      "text/html": [
       "<div>\n",
       "<style scoped>\n",
       "    .dataframe tbody tr th:only-of-type {\n",
       "        vertical-align: middle;\n",
       "    }\n",
       "\n",
       "    .dataframe tbody tr th {\n",
       "        vertical-align: top;\n",
       "    }\n",
       "\n",
       "    .dataframe thead th {\n",
       "        text-align: right;\n",
       "    }\n",
       "</style>\n",
       "<table border=\"1\" class=\"dataframe\">\n",
       "  <thead>\n",
       "    <tr style=\"text-align: right;\">\n",
       "      <th></th>\n",
       "      <th>High</th>\n",
       "      <th>Low</th>\n",
       "      <th>Open</th>\n",
       "      <th>Close</th>\n",
       "      <th>Volume</th>\n",
       "    </tr>\n",
       "    <tr>\n",
       "      <th>Date</th>\n",
       "      <th></th>\n",
       "      <th></th>\n",
       "      <th></th>\n",
       "      <th></th>\n",
       "      <th></th>\n",
       "    </tr>\n",
       "  </thead>\n",
       "  <tbody>\n",
       "    <tr>\n",
       "      <th>2022-05-09</th>\n",
       "      <td>406.410004</td>\n",
       "      <td>396.500000</td>\n",
       "      <td>405.100006</td>\n",
       "      <td>398.170013</td>\n",
       "      <td>155586100.0</td>\n",
       "    </tr>\n",
       "    <tr>\n",
       "      <th>2022-05-10</th>\n",
       "      <td>406.079987</td>\n",
       "      <td>394.820007</td>\n",
       "      <td>404.489990</td>\n",
       "      <td>399.089996</td>\n",
       "      <td>132497200.0</td>\n",
       "    </tr>\n",
       "    <tr>\n",
       "      <th>2022-05-11</th>\n",
       "      <td>404.040009</td>\n",
       "      <td>391.959991</td>\n",
       "      <td>398.070007</td>\n",
       "      <td>392.750000</td>\n",
       "      <td>142361000.0</td>\n",
       "    </tr>\n",
       "    <tr>\n",
       "      <th>2022-05-12</th>\n",
       "      <td>395.799988</td>\n",
       "      <td>385.149994</td>\n",
       "      <td>389.369995</td>\n",
       "      <td>392.339996</td>\n",
       "      <td>125090800.0</td>\n",
       "    </tr>\n",
       "    <tr>\n",
       "      <th>2022-05-13</th>\n",
       "      <td>403.179993</td>\n",
       "      <td>395.609985</td>\n",
       "      <td>396.709991</td>\n",
       "      <td>401.720001</td>\n",
       "      <td>104029300.0</td>\n",
       "    </tr>\n",
       "  </tbody>\n",
       "</table>\n",
       "</div>"
      ],
      "text/plain": [
       "                  High         Low        Open       Close       Volume\n",
       "Date                                                                   \n",
       "2022-05-09  406.410004  396.500000  405.100006  398.170013  155586100.0\n",
       "2022-05-10  406.079987  394.820007  404.489990  399.089996  132497200.0\n",
       "2022-05-11  404.040009  391.959991  398.070007  392.750000  142361000.0\n",
       "2022-05-12  395.799988  385.149994  389.369995  392.339996  125090800.0\n",
       "2022-05-13  403.179993  395.609985  396.709991  401.720001  104029300.0"
      ]
     },
     "execution_count": 5,
     "metadata": {},
     "output_type": "execute_result"
    }
   ],
   "source": [
    "spy0.tail()"
   ]
  },
  {
   "cell_type": "code",
   "execution_count": 6,
   "id": "d9b52421",
   "metadata": {},
   "outputs": [
    {
     "data": {
      "text/html": [
       "<div>\n",
       "<style scoped>\n",
       "    .dataframe tbody tr th:only-of-type {\n",
       "        vertical-align: middle;\n",
       "    }\n",
       "\n",
       "    .dataframe tbody tr th {\n",
       "        vertical-align: top;\n",
       "    }\n",
       "\n",
       "    .dataframe thead th {\n",
       "        text-align: right;\n",
       "    }\n",
       "</style>\n",
       "<table border=\"1\" class=\"dataframe\">\n",
       "  <thead>\n",
       "    <tr style=\"text-align: right;\">\n",
       "      <th></th>\n",
       "      <th>Return</th>\n",
       "    </tr>\n",
       "    <tr>\n",
       "      <th>Date</th>\n",
       "      <th></th>\n",
       "    </tr>\n",
       "  </thead>\n",
       "  <tbody>\n",
       "    <tr>\n",
       "      <th>2022-05-09</th>\n",
       "      <td>-0.013350</td>\n",
       "    </tr>\n",
       "    <tr>\n",
       "      <th>2022-05-10</th>\n",
       "      <td>-0.013365</td>\n",
       "    </tr>\n",
       "    <tr>\n",
       "      <th>2022-05-11</th>\n",
       "      <td>0.007628</td>\n",
       "    </tr>\n",
       "    <tr>\n",
       "      <th>2022-05-12</th>\n",
       "      <td>0.012629</td>\n",
       "    </tr>\n",
       "    <tr>\n",
       "      <th>2022-05-13</th>\n",
       "      <td>NaN</td>\n",
       "    </tr>\n",
       "  </tbody>\n",
       "</table>\n",
       "</div>"
      ],
      "text/plain": [
       "              Return\n",
       "Date                \n",
       "2022-05-09 -0.013350\n",
       "2022-05-10 -0.013365\n",
       "2022-05-11  0.007628\n",
       "2022-05-12  0.012629\n",
       "2022-05-13       NaN"
      ]
     },
     "execution_count": 6,
     "metadata": {},
     "output_type": "execute_result"
    }
   ],
   "source": [
    "# Current Day Close Return: Continuous (OUTPUT TO PREDICT)\n",
    "output = pd.DataFrame((spy0[\"Close\"]-spy0[\"Open\"])/(spy0[\"Open\"])).shift(-1)\n",
    "output.columns = [\"Return\"]\n",
    "output.tail()"
   ]
  },
  {
   "cell_type": "code",
   "execution_count": 7,
   "id": "c77e8f89",
   "metadata": {},
   "outputs": [
    {
     "data": {
      "text/html": [
       "<div>\n",
       "<style scoped>\n",
       "    .dataframe tbody tr th:only-of-type {\n",
       "        vertical-align: middle;\n",
       "    }\n",
       "\n",
       "    .dataframe tbody tr th {\n",
       "        vertical-align: top;\n",
       "    }\n",
       "\n",
       "    .dataframe thead th {\n",
       "        text-align: right;\n",
       "    }\n",
       "</style>\n",
       "<table border=\"1\" class=\"dataframe\">\n",
       "  <thead>\n",
       "    <tr style=\"text-align: right;\">\n",
       "      <th></th>\n",
       "      <th>Return C</th>\n",
       "    </tr>\n",
       "    <tr>\n",
       "      <th>Date</th>\n",
       "      <th></th>\n",
       "    </tr>\n",
       "  </thead>\n",
       "  <tbody>\n",
       "    <tr>\n",
       "      <th>2022-05-09</th>\n",
       "      <td>0</td>\n",
       "    </tr>\n",
       "    <tr>\n",
       "      <th>2022-05-10</th>\n",
       "      <td>0</td>\n",
       "    </tr>\n",
       "    <tr>\n",
       "      <th>2022-05-11</th>\n",
       "      <td>1</td>\n",
       "    </tr>\n",
       "    <tr>\n",
       "      <th>2022-05-12</th>\n",
       "      <td>1</td>\n",
       "    </tr>\n",
       "    <tr>\n",
       "      <th>2022-05-13</th>\n",
       "      <td>0</td>\n",
       "    </tr>\n",
       "  </tbody>\n",
       "</table>\n",
       "</div>"
      ],
      "text/plain": [
       "            Return C\n",
       "Date                \n",
       "2022-05-09         0\n",
       "2022-05-10         0\n",
       "2022-05-11         1\n",
       "2022-05-12         1\n",
       "2022-05-13         0"
      ]
     },
     "execution_count": 7,
     "metadata": {},
     "output_type": "execute_result"
    }
   ],
   "source": [
    "# Current Day Close Return: Categorical (OUTPUT TO PREDICT) (1 is positive or flat, 0 is negative)\n",
    "outputc = pd.DataFrame(np.where(output.eval(\"Return >= 0\"),1,0))\n",
    "outputc.columns = [\"Return C\"]\n",
    "outputc.index = output.index\n",
    "outputc.tail()"
   ]
  },
  {
   "cell_type": "code",
   "execution_count": 8,
   "id": "534b13ac",
   "metadata": {},
   "outputs": [
    {
     "data": {
      "text/html": [
       "<div>\n",
       "<style scoped>\n",
       "    .dataframe tbody tr th:only-of-type {\n",
       "        vertical-align: middle;\n",
       "    }\n",
       "\n",
       "    .dataframe tbody tr th {\n",
       "        vertical-align: top;\n",
       "    }\n",
       "\n",
       "    .dataframe thead th {\n",
       "        text-align: right;\n",
       "    }\n",
       "</style>\n",
       "<table border=\"1\" class=\"dataframe\">\n",
       "  <thead>\n",
       "    <tr style=\"text-align: right;\">\n",
       "      <th></th>\n",
       "      <th>MReturn</th>\n",
       "    </tr>\n",
       "    <tr>\n",
       "      <th>Date</th>\n",
       "      <th></th>\n",
       "    </tr>\n",
       "  </thead>\n",
       "  <tbody>\n",
       "    <tr>\n",
       "      <th>2022-05-09</th>\n",
       "      <td>-0.019976</td>\n",
       "    </tr>\n",
       "    <tr>\n",
       "      <th>2022-05-10</th>\n",
       "      <td>-0.000352</td>\n",
       "    </tr>\n",
       "    <tr>\n",
       "      <th>2022-05-11</th>\n",
       "      <td>0.005676</td>\n",
       "    </tr>\n",
       "    <tr>\n",
       "      <th>2022-05-12</th>\n",
       "      <td>0.013536</td>\n",
       "    </tr>\n",
       "    <tr>\n",
       "      <th>2022-05-13</th>\n",
       "      <td>NaN</td>\n",
       "    </tr>\n",
       "  </tbody>\n",
       "</table>\n",
       "</div>"
      ],
      "text/plain": [
       "             MReturn\n",
       "Date                \n",
       "2022-05-09 -0.019976\n",
       "2022-05-10 -0.000352\n",
       "2022-05-11  0.005676\n",
       "2022-05-12  0.013536\n",
       "2022-05-13       NaN"
      ]
     },
     "execution_count": 8,
     "metadata": {},
     "output_type": "execute_result"
    }
   ],
   "source": [
    "# MODIFIED OUTCOME: Continuous (OUTPUT TO PREDICT)\n",
    "moutput = pd.DataFrame(((spy0[\"High\"]-spy0[\"Open\"])-(spy0[\"Open\"]-spy0[\"Low\"]))/spy0[\"Open\"]).shift(-1)\n",
    "moutput.columns = [\"MReturn\"]\n",
    "moutput.tail()"
   ]
  },
  {
   "cell_type": "code",
   "execution_count": 9,
   "id": "4a820860",
   "metadata": {},
   "outputs": [
    {
     "data": {
      "text/html": [
       "<div>\n",
       "<style scoped>\n",
       "    .dataframe tbody tr th:only-of-type {\n",
       "        vertical-align: middle;\n",
       "    }\n",
       "\n",
       "    .dataframe tbody tr th {\n",
       "        vertical-align: top;\n",
       "    }\n",
       "\n",
       "    .dataframe thead th {\n",
       "        text-align: right;\n",
       "    }\n",
       "</style>\n",
       "<table border=\"1\" class=\"dataframe\">\n",
       "  <thead>\n",
       "    <tr style=\"text-align: right;\">\n",
       "      <th></th>\n",
       "      <th>MReturnC</th>\n",
       "    </tr>\n",
       "    <tr>\n",
       "      <th>Date</th>\n",
       "      <th></th>\n",
       "    </tr>\n",
       "  </thead>\n",
       "  <tbody>\n",
       "    <tr>\n",
       "      <th>2022-05-09</th>\n",
       "      <td>0</td>\n",
       "    </tr>\n",
       "    <tr>\n",
       "      <th>2022-05-10</th>\n",
       "      <td>0</td>\n",
       "    </tr>\n",
       "    <tr>\n",
       "      <th>2022-05-11</th>\n",
       "      <td>1</td>\n",
       "    </tr>\n",
       "    <tr>\n",
       "      <th>2022-05-12</th>\n",
       "      <td>1</td>\n",
       "    </tr>\n",
       "    <tr>\n",
       "      <th>2022-05-13</th>\n",
       "      <td>0</td>\n",
       "    </tr>\n",
       "  </tbody>\n",
       "</table>\n",
       "</div>"
      ],
      "text/plain": [
       "            MReturnC\n",
       "Date                \n",
       "2022-05-09         0\n",
       "2022-05-10         0\n",
       "2022-05-11         1\n",
       "2022-05-12         1\n",
       "2022-05-13         0"
      ]
     },
     "execution_count": 9,
     "metadata": {},
     "output_type": "execute_result"
    }
   ],
   "source": [
    "# MODIFIED OUTCOME: Categorical (OUTPUT TO PREDICT) (1 is positive or flat, 0 is negative)\n",
    "moutputc = pd.DataFrame(np.where(moutput.eval(\"MReturn >= 0\"),1,0))\n",
    "moutputc.columns = [\"MReturnC\"]\n",
    "moutputc.index = moutput.index\n",
    "moutputc.tail()"
   ]
  },
  {
   "cell_type": "code",
   "execution_count": 10,
   "id": "1d900d42",
   "metadata": {},
   "outputs": [],
   "source": [
    "######################################"
   ]
  },
  {
   "cell_type": "code",
   "execution_count": 11,
   "id": "f04caa83",
   "metadata": {},
   "outputs": [
    {
     "data": {
      "text/html": [
       "<div>\n",
       "<style scoped>\n",
       "    .dataframe tbody tr th:only-of-type {\n",
       "        vertical-align: middle;\n",
       "    }\n",
       "\n",
       "    .dataframe tbody tr th {\n",
       "        vertical-align: top;\n",
       "    }\n",
       "\n",
       "    .dataframe thead th {\n",
       "        text-align: right;\n",
       "    }\n",
       "</style>\n",
       "<table border=\"1\" class=\"dataframe\">\n",
       "  <thead>\n",
       "    <tr style=\"text-align: right;\">\n",
       "      <th></th>\n",
       "      <th>Bull</th>\n",
       "      <th>Neutral</th>\n",
       "      <th>Bear</th>\n",
       "    </tr>\n",
       "    <tr>\n",
       "      <th>Date</th>\n",
       "      <th></th>\n",
       "      <th></th>\n",
       "      <th></th>\n",
       "    </tr>\n",
       "  </thead>\n",
       "  <tbody>\n",
       "    <tr>\n",
       "      <th>2022-04-14</th>\n",
       "      <td>0.158371</td>\n",
       "      <td>0.357466</td>\n",
       "      <td>0.484163</td>\n",
       "    </tr>\n",
       "    <tr>\n",
       "      <th>2022-04-21</th>\n",
       "      <td>0.188679</td>\n",
       "      <td>0.372642</td>\n",
       "      <td>0.438679</td>\n",
       "    </tr>\n",
       "    <tr>\n",
       "      <th>2022-04-28</th>\n",
       "      <td>0.164384</td>\n",
       "      <td>0.242009</td>\n",
       "      <td>0.593607</td>\n",
       "    </tr>\n",
       "    <tr>\n",
       "      <th>2022-05-05</th>\n",
       "      <td>0.268722</td>\n",
       "      <td>0.202643</td>\n",
       "      <td>0.528634</td>\n",
       "    </tr>\n",
       "    <tr>\n",
       "      <th>2022-05-12</th>\n",
       "      <td>0.243243</td>\n",
       "      <td>0.266409</td>\n",
       "      <td>0.490347</td>\n",
       "    </tr>\n",
       "  </tbody>\n",
       "</table>\n",
       "</div>"
      ],
      "text/plain": [
       "                Bull   Neutral      Bear\n",
       "Date                                    \n",
       "2022-04-14  0.158371  0.357466  0.484163\n",
       "2022-04-21  0.188679  0.372642  0.438679\n",
       "2022-04-28  0.164384  0.242009  0.593607\n",
       "2022-05-05  0.268722  0.202643  0.528634\n",
       "2022-05-12  0.243243  0.266409  0.490347"
      ]
     },
     "execution_count": 11,
     "metadata": {},
     "output_type": "execute_result"
    }
   ],
   "source": [
    "# Sentiment Data: 01/29/1993 - 05/12/2022\n",
    "df0 = pd.read_excel(\"sentiment.xls\",sheet_name = \"SENTIMENT\", skiprows = 294)\n",
    "df00 = df0.drop(df0.index[1527:]).drop(df0.columns[4:],axis = 1)\n",
    "df00.columns=[\"Date\",\"Bull\",\"Neutral\",\"Bear\"]\n",
    "sdf = df00.set_index(\"Date\")\n",
    "sdf.tail()"
   ]
  },
  {
   "cell_type": "code",
   "execution_count": 12,
   "id": "c80095c7",
   "metadata": {},
   "outputs": [
    {
     "data": {
      "text/html": [
       "<div>\n",
       "<style scoped>\n",
       "    .dataframe tbody tr th:only-of-type {\n",
       "        vertical-align: middle;\n",
       "    }\n",
       "\n",
       "    .dataframe tbody tr th {\n",
       "        vertical-align: top;\n",
       "    }\n",
       "\n",
       "    .dataframe thead th {\n",
       "        text-align: right;\n",
       "    }\n",
       "</style>\n",
       "<table border=\"1\" class=\"dataframe\">\n",
       "  <thead>\n",
       "    <tr style=\"text-align: right;\">\n",
       "      <th></th>\n",
       "      <th>Bull</th>\n",
       "      <th>Neutral</th>\n",
       "      <th>Bear</th>\n",
       "    </tr>\n",
       "    <tr>\n",
       "      <th>Date</th>\n",
       "      <th></th>\n",
       "      <th></th>\n",
       "      <th></th>\n",
       "    </tr>\n",
       "  </thead>\n",
       "  <tbody>\n",
       "    <tr>\n",
       "      <th>2022-04-14</th>\n",
       "      <td>-0.359149</td>\n",
       "      <td>0.054223</td>\n",
       "      <td>0.170061</td>\n",
       "    </tr>\n",
       "    <tr>\n",
       "      <th>2022-04-21</th>\n",
       "      <td>0.191373</td>\n",
       "      <td>0.042454</td>\n",
       "      <td>-0.093944</td>\n",
       "    </tr>\n",
       "    <tr>\n",
       "      <th>2022-04-28</th>\n",
       "      <td>-0.128764</td>\n",
       "      <td>-0.350559</td>\n",
       "      <td>0.353169</td>\n",
       "    </tr>\n",
       "    <tr>\n",
       "      <th>2022-05-05</th>\n",
       "      <td>0.634721</td>\n",
       "      <td>-0.162663</td>\n",
       "      <td>-0.109455</td>\n",
       "    </tr>\n",
       "    <tr>\n",
       "      <th>2022-05-12</th>\n",
       "      <td>-0.094815</td>\n",
       "      <td>0.314672</td>\n",
       "      <td>-0.072426</td>\n",
       "    </tr>\n",
       "  </tbody>\n",
       "</table>\n",
       "</div>"
      ],
      "text/plain": [
       "                Bull   Neutral      Bear\n",
       "Date                                    \n",
       "2022-04-14 -0.359149  0.054223  0.170061\n",
       "2022-04-21  0.191373  0.042454 -0.093944\n",
       "2022-04-28 -0.128764 -0.350559  0.353169\n",
       "2022-05-05  0.634721 -0.162663 -0.109455\n",
       "2022-05-12 -0.094815  0.314672 -0.072426"
      ]
     },
     "execution_count": 12,
     "metadata": {},
     "output_type": "execute_result"
    }
   ],
   "source": [
    "# Bull, neutral, bear Current Day Return\n",
    "cdrs = pd.DataFrame(sdf.pct_change())\n",
    "cdrs.tail()"
   ]
  },
  {
   "cell_type": "code",
   "execution_count": 13,
   "id": "ac585e9a",
   "metadata": {},
   "outputs": [
    {
     "data": {
      "text/html": [
       "<div>\n",
       "<style scoped>\n",
       "    .dataframe tbody tr th:only-of-type {\n",
       "        vertical-align: middle;\n",
       "    }\n",
       "\n",
       "    .dataframe tbody tr th {\n",
       "        vertical-align: top;\n",
       "    }\n",
       "\n",
       "    .dataframe thead th {\n",
       "        text-align: right;\n",
       "    }\n",
       "</style>\n",
       "<table border=\"1\" class=\"dataframe\">\n",
       "  <thead>\n",
       "    <tr style=\"text-align: right;\">\n",
       "      <th></th>\n",
       "      <th>Bull</th>\n",
       "      <th>Neutral</th>\n",
       "      <th>Bear</th>\n",
       "    </tr>\n",
       "    <tr>\n",
       "      <th>Date</th>\n",
       "      <th></th>\n",
       "      <th></th>\n",
       "      <th></th>\n",
       "    </tr>\n",
       "  </thead>\n",
       "  <tbody>\n",
       "    <tr>\n",
       "      <th>2022-04-14</th>\n",
       "      <td>-0.224924</td>\n",
       "      <td>-0.164410</td>\n",
       "      <td>0.502724</td>\n",
       "    </tr>\n",
       "    <tr>\n",
       "      <th>2022-04-21</th>\n",
       "      <td>-0.359149</td>\n",
       "      <td>0.054223</td>\n",
       "      <td>0.170061</td>\n",
       "    </tr>\n",
       "    <tr>\n",
       "      <th>2022-04-28</th>\n",
       "      <td>0.191373</td>\n",
       "      <td>0.042454</td>\n",
       "      <td>-0.093944</td>\n",
       "    </tr>\n",
       "    <tr>\n",
       "      <th>2022-05-05</th>\n",
       "      <td>-0.128764</td>\n",
       "      <td>-0.350559</td>\n",
       "      <td>0.353169</td>\n",
       "    </tr>\n",
       "    <tr>\n",
       "      <th>2022-05-12</th>\n",
       "      <td>0.634721</td>\n",
       "      <td>-0.162663</td>\n",
       "      <td>-0.109455</td>\n",
       "    </tr>\n",
       "  </tbody>\n",
       "</table>\n",
       "</div>"
      ],
      "text/plain": [
       "                Bull   Neutral      Bear\n",
       "Date                                    \n",
       "2022-04-14 -0.224924 -0.164410  0.502724\n",
       "2022-04-21 -0.359149  0.054223  0.170061\n",
       "2022-04-28  0.191373  0.042454 -0.093944\n",
       "2022-05-05 -0.128764 -0.350559  0.353169\n",
       "2022-05-12  0.634721 -0.162663 -0.109455"
      ]
     },
     "execution_count": 13,
     "metadata": {},
     "output_type": "execute_result"
    }
   ],
   "source": [
    "# Bull, neutral, bear Previous Day Return\n",
    "pdrs = pd.DataFrame(sdf.pct_change()).shift(+1)\n",
    "pdrs.tail()"
   ]
  },
  {
   "cell_type": "code",
   "execution_count": 14,
   "id": "7d7c4e2b",
   "metadata": {},
   "outputs": [
    {
     "data": {
      "text/html": [
       "<div>\n",
       "<style scoped>\n",
       "    .dataframe tbody tr th:only-of-type {\n",
       "        vertical-align: middle;\n",
       "    }\n",
       "\n",
       "    .dataframe tbody tr th {\n",
       "        vertical-align: top;\n",
       "    }\n",
       "\n",
       "    .dataframe thead th {\n",
       "        text-align: right;\n",
       "    }\n",
       "</style>\n",
       "<table border=\"1\" class=\"dataframe\">\n",
       "  <thead>\n",
       "    <tr style=\"text-align: right;\">\n",
       "      <th></th>\n",
       "      <th>Bull</th>\n",
       "      <th>Neutral</th>\n",
       "      <th>Bear</th>\n",
       "    </tr>\n",
       "    <tr>\n",
       "      <th>Date</th>\n",
       "      <th></th>\n",
       "      <th></th>\n",
       "      <th></th>\n",
       "    </tr>\n",
       "  </thead>\n",
       "  <tbody>\n",
       "    <tr>\n",
       "      <th>2022-04-14</th>\n",
       "      <td>0.263095</td>\n",
       "      <td>0.354951</td>\n",
       "      <td>0.381954</td>\n",
       "    </tr>\n",
       "    <tr>\n",
       "      <th>2022-04-21</th>\n",
       "      <td>0.228254</td>\n",
       "      <td>0.368746</td>\n",
       "      <td>0.402999</td>\n",
       "    </tr>\n",
       "    <tr>\n",
       "      <th>2022-04-28</th>\n",
       "      <td>0.189640</td>\n",
       "      <td>0.327799</td>\n",
       "      <td>0.482561</td>\n",
       "    </tr>\n",
       "    <tr>\n",
       "      <th>2022-05-05</th>\n",
       "      <td>0.195039</td>\n",
       "      <td>0.293690</td>\n",
       "      <td>0.511271</td>\n",
       "    </tr>\n",
       "    <tr>\n",
       "      <th>2022-05-12</th>\n",
       "      <td>0.216257</td>\n",
       "      <td>0.270926</td>\n",
       "      <td>0.512817</td>\n",
       "    </tr>\n",
       "  </tbody>\n",
       "</table>\n",
       "</div>"
      ],
      "text/plain": [
       "                Bull   Neutral      Bear\n",
       "Date                                    \n",
       "2022-04-14  0.263095  0.354951  0.381954\n",
       "2022-04-21  0.228254  0.368746  0.402999\n",
       "2022-04-28  0.189640  0.327799  0.482561\n",
       "2022-05-05  0.195039  0.293690  0.511271\n",
       "2022-05-12  0.216257  0.270926  0.512817"
      ]
     },
     "execution_count": 14,
     "metadata": {},
     "output_type": "execute_result"
    }
   ],
   "source": [
    "# 4 period moving average\n",
    "fpma = sdf.rolling(window=4).mean()\n",
    "fpma.tail()"
   ]
  },
  {
   "cell_type": "code",
   "execution_count": 15,
   "id": "61f6a0a1",
   "metadata": {},
   "outputs": [
    {
     "data": {
      "text/html": [
       "<div>\n",
       "<style scoped>\n",
       "    .dataframe tbody tr th:only-of-type {\n",
       "        vertical-align: middle;\n",
       "    }\n",
       "\n",
       "    .dataframe tbody tr th {\n",
       "        vertical-align: top;\n",
       "    }\n",
       "\n",
       "    .dataframe thead th {\n",
       "        text-align: right;\n",
       "    }\n",
       "</style>\n",
       "<table border=\"1\" class=\"dataframe\">\n",
       "  <thead>\n",
       "    <tr style=\"text-align: right;\">\n",
       "      <th></th>\n",
       "      <th>Bull</th>\n",
       "      <th>Neutral</th>\n",
       "      <th>Bear</th>\n",
       "    </tr>\n",
       "    <tr>\n",
       "      <th>Date</th>\n",
       "      <th></th>\n",
       "      <th></th>\n",
       "      <th></th>\n",
       "    </tr>\n",
       "  </thead>\n",
       "  <tbody>\n",
       "    <tr>\n",
       "      <th>2022-04-14</th>\n",
       "      <td>0.248937</td>\n",
       "      <td>0.318809</td>\n",
       "      <td>0.432255</td>\n",
       "    </tr>\n",
       "    <tr>\n",
       "      <th>2022-04-21</th>\n",
       "      <td>0.245379</td>\n",
       "      <td>0.329927</td>\n",
       "      <td>0.424694</td>\n",
       "    </tr>\n",
       "    <tr>\n",
       "      <th>2022-04-28</th>\n",
       "      <td>0.237000</td>\n",
       "      <td>0.325219</td>\n",
       "      <td>0.437780</td>\n",
       "    </tr>\n",
       "    <tr>\n",
       "      <th>2022-05-05</th>\n",
       "      <td>0.239095</td>\n",
       "      <td>0.308630</td>\n",
       "      <td>0.452275</td>\n",
       "    </tr>\n",
       "    <tr>\n",
       "      <th>2022-05-12</th>\n",
       "      <td>0.243324</td>\n",
       "      <td>0.299532</td>\n",
       "      <td>0.457143</td>\n",
       "    </tr>\n",
       "  </tbody>\n",
       "</table>\n",
       "</div>"
      ],
      "text/plain": [
       "                Bull   Neutral      Bear\n",
       "Date                                    \n",
       "2022-04-14  0.248937  0.318809  0.432255\n",
       "2022-04-21  0.245379  0.329927  0.424694\n",
       "2022-04-28  0.237000  0.325219  0.437780\n",
       "2022-05-05  0.239095  0.308630  0.452275\n",
       "2022-05-12  0.243324  0.299532  0.457143"
      ]
     },
     "execution_count": 15,
     "metadata": {},
     "output_type": "execute_result"
    }
   ],
   "source": [
    "# 12 period moving average\n",
    "tpma = sdf.rolling(window=12).mean()\n",
    "tpma.tail()"
   ]
  },
  {
   "cell_type": "code",
   "execution_count": 16,
   "id": "f2afecb4",
   "metadata": {},
   "outputs": [
    {
     "data": {
      "text/html": [
       "<div>\n",
       "<style scoped>\n",
       "    .dataframe tbody tr th:only-of-type {\n",
       "        vertical-align: middle;\n",
       "    }\n",
       "\n",
       "    .dataframe tbody tr th {\n",
       "        vertical-align: top;\n",
       "    }\n",
       "\n",
       "    .dataframe thead th {\n",
       "        text-align: right;\n",
       "    }\n",
       "</style>\n",
       "<table border=\"1\" class=\"dataframe\">\n",
       "  <thead>\n",
       "    <tr style=\"text-align: right;\">\n",
       "      <th></th>\n",
       "      <th>Bull</th>\n",
       "      <th>Neutral</th>\n",
       "      <th>Bear</th>\n",
       "    </tr>\n",
       "    <tr>\n",
       "      <th>Date</th>\n",
       "      <th></th>\n",
       "      <th></th>\n",
       "      <th></th>\n",
       "    </tr>\n",
       "  </thead>\n",
       "  <tbody>\n",
       "    <tr>\n",
       "      <th>1993-01-29</th>\n",
       "      <td>NaN</td>\n",
       "      <td>NaN</td>\n",
       "      <td>NaN</td>\n",
       "    </tr>\n",
       "    <tr>\n",
       "      <th>1993-02-05</th>\n",
       "      <td>NaN</td>\n",
       "      <td>NaN</td>\n",
       "      <td>NaN</td>\n",
       "    </tr>\n",
       "    <tr>\n",
       "      <th>1993-02-12</th>\n",
       "      <td>NaN</td>\n",
       "      <td>NaN</td>\n",
       "      <td>NaN</td>\n",
       "    </tr>\n",
       "    <tr>\n",
       "      <th>1993-02-19</th>\n",
       "      <td>0.0175</td>\n",
       "      <td>-0.0525</td>\n",
       "      <td>0.0350</td>\n",
       "    </tr>\n",
       "    <tr>\n",
       "      <th>1993-02-26</th>\n",
       "      <td>-0.0875</td>\n",
       "      <td>0.0100</td>\n",
       "      <td>0.0775</td>\n",
       "    </tr>\n",
       "  </tbody>\n",
       "</table>\n",
       "</div>"
      ],
      "text/plain": [
       "              Bull  Neutral    Bear\n",
       "Date                               \n",
       "1993-01-29     NaN      NaN     NaN\n",
       "1993-02-05     NaN      NaN     NaN\n",
       "1993-02-12     NaN      NaN     NaN\n",
       "1993-02-19  0.0175  -0.0525  0.0350\n",
       "1993-02-26 -0.0875   0.0100  0.0775"
      ]
     },
     "execution_count": 16,
     "metadata": {},
     "output_type": "execute_result"
    }
   ],
   "source": [
    "# MACD (Moving Average Convergence Divergence) between Bull, Neutral, Bear and the 4 MAs\n",
    "fmacdsen = sdf-fpma\n",
    "fmacdsen.head()"
   ]
  },
  {
   "cell_type": "code",
   "execution_count": 17,
   "id": "c1eb0fa2",
   "metadata": {},
   "outputs": [
    {
     "data": {
      "text/html": [
       "<div>\n",
       "<style scoped>\n",
       "    .dataframe tbody tr th:only-of-type {\n",
       "        vertical-align: middle;\n",
       "    }\n",
       "\n",
       "    .dataframe tbody tr th {\n",
       "        vertical-align: top;\n",
       "    }\n",
       "\n",
       "    .dataframe thead th {\n",
       "        text-align: right;\n",
       "    }\n",
       "</style>\n",
       "<table border=\"1\" class=\"dataframe\">\n",
       "  <thead>\n",
       "    <tr style=\"text-align: right;\">\n",
       "      <th></th>\n",
       "      <th>Bull</th>\n",
       "      <th>Neutral</th>\n",
       "      <th>Bear</th>\n",
       "    </tr>\n",
       "    <tr>\n",
       "      <th>Date</th>\n",
       "      <th></th>\n",
       "      <th></th>\n",
       "      <th></th>\n",
       "    </tr>\n",
       "  </thead>\n",
       "  <tbody>\n",
       "    <tr>\n",
       "      <th>2022-04-14</th>\n",
       "      <td>-0.090565</td>\n",
       "      <td>0.038657</td>\n",
       "      <td>0.051908</td>\n",
       "    </tr>\n",
       "    <tr>\n",
       "      <th>2022-04-21</th>\n",
       "      <td>-0.056700</td>\n",
       "      <td>0.042715</td>\n",
       "      <td>0.013985</td>\n",
       "    </tr>\n",
       "    <tr>\n",
       "      <th>2022-04-28</th>\n",
       "      <td>-0.072616</td>\n",
       "      <td>-0.083210</td>\n",
       "      <td>0.155827</td>\n",
       "    </tr>\n",
       "    <tr>\n",
       "      <th>2022-05-05</th>\n",
       "      <td>0.029627</td>\n",
       "      <td>-0.105987</td>\n",
       "      <td>0.076359</td>\n",
       "    </tr>\n",
       "    <tr>\n",
       "      <th>2022-05-12</th>\n",
       "      <td>-0.000081</td>\n",
       "      <td>-0.033123</td>\n",
       "      <td>0.033204</td>\n",
       "    </tr>\n",
       "  </tbody>\n",
       "</table>\n",
       "</div>"
      ],
      "text/plain": [
       "                Bull   Neutral      Bear\n",
       "Date                                    \n",
       "2022-04-14 -0.090565  0.038657  0.051908\n",
       "2022-04-21 -0.056700  0.042715  0.013985\n",
       "2022-04-28 -0.072616 -0.083210  0.155827\n",
       "2022-05-05  0.029627 -0.105987  0.076359\n",
       "2022-05-12 -0.000081 -0.033123  0.033204"
      ]
     },
     "execution_count": 17,
     "metadata": {},
     "output_type": "execute_result"
    }
   ],
   "source": [
    "# MACD (Moving Average Convergence Divergence) between Bull, Neutral, Bear and the 12 MAs\n",
    "tmacdsen = sdf-tpma\n",
    "tmacdsen.tail()"
   ]
  },
  {
   "cell_type": "code",
   "execution_count": 18,
   "id": "aec3865b",
   "metadata": {},
   "outputs": [
    {
     "data": {
      "text/html": [
       "<div>\n",
       "<style scoped>\n",
       "    .dataframe tbody tr th:only-of-type {\n",
       "        vertical-align: middle;\n",
       "    }\n",
       "\n",
       "    .dataframe tbody tr th {\n",
       "        vertical-align: top;\n",
       "    }\n",
       "\n",
       "    .dataframe thead th {\n",
       "        text-align: right;\n",
       "    }\n",
       "</style>\n",
       "<table border=\"1\" class=\"dataframe\">\n",
       "  <thead>\n",
       "    <tr style=\"text-align: right;\">\n",
       "      <th></th>\n",
       "      <th>Bull</th>\n",
       "      <th>Neutral</th>\n",
       "      <th>Bear</th>\n",
       "    </tr>\n",
       "    <tr>\n",
       "      <th>Date</th>\n",
       "      <th></th>\n",
       "      <th></th>\n",
       "      <th></th>\n",
       "    </tr>\n",
       "  </thead>\n",
       "  <tbody>\n",
       "    <tr>\n",
       "      <th>2022-04-14</th>\n",
       "      <td>0.014158</td>\n",
       "      <td>0.036142</td>\n",
       "      <td>-0.050301</td>\n",
       "    </tr>\n",
       "    <tr>\n",
       "      <th>2022-04-21</th>\n",
       "      <td>-0.017124</td>\n",
       "      <td>0.038819</td>\n",
       "      <td>-0.021694</td>\n",
       "    </tr>\n",
       "    <tr>\n",
       "      <th>2022-04-28</th>\n",
       "      <td>-0.047360</td>\n",
       "      <td>0.002580</td>\n",
       "      <td>0.044780</td>\n",
       "    </tr>\n",
       "    <tr>\n",
       "      <th>2022-05-05</th>\n",
       "      <td>-0.044056</td>\n",
       "      <td>-0.014940</td>\n",
       "      <td>0.058996</td>\n",
       "    </tr>\n",
       "    <tr>\n",
       "      <th>2022-05-12</th>\n",
       "      <td>-0.027067</td>\n",
       "      <td>-0.028607</td>\n",
       "      <td>0.055674</td>\n",
       "    </tr>\n",
       "  </tbody>\n",
       "</table>\n",
       "</div>"
      ],
      "text/plain": [
       "                Bull   Neutral      Bear\n",
       "Date                                    \n",
       "2022-04-14  0.014158  0.036142 -0.050301\n",
       "2022-04-21 -0.017124  0.038819 -0.021694\n",
       "2022-04-28 -0.047360  0.002580  0.044780\n",
       "2022-05-05 -0.044056 -0.014940  0.058996\n",
       "2022-05-12 -0.027067 -0.028607  0.055674"
      ]
     },
     "execution_count": 18,
     "metadata": {},
     "output_type": "execute_result"
    }
   ],
   "source": [
    "# MACD (Moving Average Convergence Divergence) between 4 MAs and the 12 MAs\n",
    "ftmasen = fpma - tpma\n",
    "ftmasen.tail()"
   ]
  },
  {
   "cell_type": "code",
   "execution_count": 19,
   "id": "55137cf0",
   "metadata": {},
   "outputs": [
    {
     "data": {
      "text/html": [
       "<div>\n",
       "<style scoped>\n",
       "    .dataframe tbody tr th:only-of-type {\n",
       "        vertical-align: middle;\n",
       "    }\n",
       "\n",
       "    .dataframe tbody tr th {\n",
       "        vertical-align: top;\n",
       "    }\n",
       "\n",
       "    .dataframe thead th {\n",
       "        text-align: right;\n",
       "    }\n",
       "</style>\n",
       "<table border=\"1\" class=\"dataframe\">\n",
       "  <thead>\n",
       "    <tr style=\"text-align: right;\">\n",
       "      <th></th>\n",
       "      <th>Bull</th>\n",
       "      <th>Neutral</th>\n",
       "      <th>Bear</th>\n",
       "      <th>Bull R</th>\n",
       "      <th>Neutral R</th>\n",
       "      <th>Bear R</th>\n",
       "      <th>Bull T-1R</th>\n",
       "      <th>Neutral T-1R</th>\n",
       "      <th>Bear T-1R</th>\n",
       "      <th>Bull 4</th>\n",
       "      <th>...</th>\n",
       "      <th>Bear 12</th>\n",
       "      <th>Bull-4</th>\n",
       "      <th>Neutral-4</th>\n",
       "      <th>Bear-4</th>\n",
       "      <th>Bull-12</th>\n",
       "      <th>Neutral-12</th>\n",
       "      <th>Bear-12</th>\n",
       "      <th>Bull 4-12</th>\n",
       "      <th>Neutral 4-12</th>\n",
       "      <th>Bear 4-12</th>\n",
       "    </tr>\n",
       "    <tr>\n",
       "      <th>Date</th>\n",
       "      <th></th>\n",
       "      <th></th>\n",
       "      <th></th>\n",
       "      <th></th>\n",
       "      <th></th>\n",
       "      <th></th>\n",
       "      <th></th>\n",
       "      <th></th>\n",
       "      <th></th>\n",
       "      <th></th>\n",
       "      <th></th>\n",
       "      <th></th>\n",
       "      <th></th>\n",
       "      <th></th>\n",
       "      <th></th>\n",
       "      <th></th>\n",
       "      <th></th>\n",
       "      <th></th>\n",
       "      <th></th>\n",
       "      <th></th>\n",
       "      <th></th>\n",
       "    </tr>\n",
       "  </thead>\n",
       "  <tbody>\n",
       "    <tr>\n",
       "      <th>2022-04-14</th>\n",
       "      <td>0.158371</td>\n",
       "      <td>0.357466</td>\n",
       "      <td>0.484163</td>\n",
       "      <td>-0.359149</td>\n",
       "      <td>0.054223</td>\n",
       "      <td>0.170061</td>\n",
       "      <td>-0.224924</td>\n",
       "      <td>-0.164410</td>\n",
       "      <td>0.502724</td>\n",
       "      <td>0.263095</td>\n",
       "      <td>...</td>\n",
       "      <td>0.432255</td>\n",
       "      <td>-0.104724</td>\n",
       "      <td>0.002515</td>\n",
       "      <td>0.102209</td>\n",
       "      <td>-0.090565</td>\n",
       "      <td>0.038657</td>\n",
       "      <td>0.051908</td>\n",
       "      <td>0.014158</td>\n",
       "      <td>0.036142</td>\n",
       "      <td>-0.050301</td>\n",
       "    </tr>\n",
       "    <tr>\n",
       "      <th>2022-04-21</th>\n",
       "      <td>0.188679</td>\n",
       "      <td>0.372642</td>\n",
       "      <td>0.438679</td>\n",
       "      <td>0.191373</td>\n",
       "      <td>0.042454</td>\n",
       "      <td>-0.093944</td>\n",
       "      <td>-0.359149</td>\n",
       "      <td>0.054223</td>\n",
       "      <td>0.170061</td>\n",
       "      <td>0.228254</td>\n",
       "      <td>...</td>\n",
       "      <td>0.424694</td>\n",
       "      <td>-0.039575</td>\n",
       "      <td>0.003896</td>\n",
       "      <td>0.035680</td>\n",
       "      <td>-0.056700</td>\n",
       "      <td>0.042715</td>\n",
       "      <td>0.013985</td>\n",
       "      <td>-0.017124</td>\n",
       "      <td>0.038819</td>\n",
       "      <td>-0.021694</td>\n",
       "    </tr>\n",
       "    <tr>\n",
       "      <th>2022-04-28</th>\n",
       "      <td>0.164384</td>\n",
       "      <td>0.242009</td>\n",
       "      <td>0.593607</td>\n",
       "      <td>-0.128764</td>\n",
       "      <td>-0.350559</td>\n",
       "      <td>0.353169</td>\n",
       "      <td>0.191373</td>\n",
       "      <td>0.042454</td>\n",
       "      <td>-0.093944</td>\n",
       "      <td>0.189640</td>\n",
       "      <td>...</td>\n",
       "      <td>0.437780</td>\n",
       "      <td>-0.025256</td>\n",
       "      <td>-0.085790</td>\n",
       "      <td>0.111046</td>\n",
       "      <td>-0.072616</td>\n",
       "      <td>-0.083210</td>\n",
       "      <td>0.155827</td>\n",
       "      <td>-0.047360</td>\n",
       "      <td>0.002580</td>\n",
       "      <td>0.044780</td>\n",
       "    </tr>\n",
       "    <tr>\n",
       "      <th>2022-05-05</th>\n",
       "      <td>0.268722</td>\n",
       "      <td>0.202643</td>\n",
       "      <td>0.528634</td>\n",
       "      <td>0.634721</td>\n",
       "      <td>-0.162663</td>\n",
       "      <td>-0.109455</td>\n",
       "      <td>-0.128764</td>\n",
       "      <td>-0.350559</td>\n",
       "      <td>0.353169</td>\n",
       "      <td>0.195039</td>\n",
       "      <td>...</td>\n",
       "      <td>0.452275</td>\n",
       "      <td>0.073683</td>\n",
       "      <td>-0.091047</td>\n",
       "      <td>0.017363</td>\n",
       "      <td>0.029627</td>\n",
       "      <td>-0.105987</td>\n",
       "      <td>0.076359</td>\n",
       "      <td>-0.044056</td>\n",
       "      <td>-0.014940</td>\n",
       "      <td>0.058996</td>\n",
       "    </tr>\n",
       "    <tr>\n",
       "      <th>2022-05-12</th>\n",
       "      <td>0.243243</td>\n",
       "      <td>0.266409</td>\n",
       "      <td>0.490347</td>\n",
       "      <td>-0.094815</td>\n",
       "      <td>0.314672</td>\n",
       "      <td>-0.072426</td>\n",
       "      <td>0.634721</td>\n",
       "      <td>-0.162663</td>\n",
       "      <td>-0.109455</td>\n",
       "      <td>0.216257</td>\n",
       "      <td>...</td>\n",
       "      <td>0.457143</td>\n",
       "      <td>0.026986</td>\n",
       "      <td>-0.004517</td>\n",
       "      <td>-0.022470</td>\n",
       "      <td>-0.000081</td>\n",
       "      <td>-0.033123</td>\n",
       "      <td>0.033204</td>\n",
       "      <td>-0.027067</td>\n",
       "      <td>-0.028607</td>\n",
       "      <td>0.055674</td>\n",
       "    </tr>\n",
       "  </tbody>\n",
       "</table>\n",
       "<p>5 rows × 24 columns</p>\n",
       "</div>"
      ],
      "text/plain": [
       "                Bull   Neutral      Bear    Bull R  Neutral R    Bear R  \\\n",
       "Date                                                                      \n",
       "2022-04-14  0.158371  0.357466  0.484163 -0.359149   0.054223  0.170061   \n",
       "2022-04-21  0.188679  0.372642  0.438679  0.191373   0.042454 -0.093944   \n",
       "2022-04-28  0.164384  0.242009  0.593607 -0.128764  -0.350559  0.353169   \n",
       "2022-05-05  0.268722  0.202643  0.528634  0.634721  -0.162663 -0.109455   \n",
       "2022-05-12  0.243243  0.266409  0.490347 -0.094815   0.314672 -0.072426   \n",
       "\n",
       "            Bull T-1R  Neutral T-1R  Bear T-1R    Bull 4  ...   Bear 12  \\\n",
       "Date                                                      ...             \n",
       "2022-04-14  -0.224924     -0.164410   0.502724  0.263095  ...  0.432255   \n",
       "2022-04-21  -0.359149      0.054223   0.170061  0.228254  ...  0.424694   \n",
       "2022-04-28   0.191373      0.042454  -0.093944  0.189640  ...  0.437780   \n",
       "2022-05-05  -0.128764     -0.350559   0.353169  0.195039  ...  0.452275   \n",
       "2022-05-12   0.634721     -0.162663  -0.109455  0.216257  ...  0.457143   \n",
       "\n",
       "              Bull-4  Neutral-4    Bear-4   Bull-12  Neutral-12   Bear-12  \\\n",
       "Date                                                                        \n",
       "2022-04-14 -0.104724   0.002515  0.102209 -0.090565    0.038657  0.051908   \n",
       "2022-04-21 -0.039575   0.003896  0.035680 -0.056700    0.042715  0.013985   \n",
       "2022-04-28 -0.025256  -0.085790  0.111046 -0.072616   -0.083210  0.155827   \n",
       "2022-05-05  0.073683  -0.091047  0.017363  0.029627   -0.105987  0.076359   \n",
       "2022-05-12  0.026986  -0.004517 -0.022470 -0.000081   -0.033123  0.033204   \n",
       "\n",
       "            Bull 4-12  Neutral 4-12  Bear 4-12  \n",
       "Date                                            \n",
       "2022-04-14   0.014158      0.036142  -0.050301  \n",
       "2022-04-21  -0.017124      0.038819  -0.021694  \n",
       "2022-04-28  -0.047360      0.002580   0.044780  \n",
       "2022-05-05  -0.044056     -0.014940   0.058996  \n",
       "2022-05-12  -0.027067     -0.028607   0.055674  \n",
       "\n",
       "[5 rows x 24 columns]"
      ]
     },
     "execution_count": 19,
     "metadata": {},
     "output_type": "execute_result"
    }
   ],
   "source": [
    "# SENTIMENT COMBO DF:\n",
    "sentiment = pd.concat([sdf,cdrs,pdrs,fpma,tpma,fmacdsen,tmacdsen,ftmasen], axis = 1)\n",
    "sentiment.columns = [\"Bull\",\"Neutral\",\"Bear\",\"Bull R\",\"Neutral R\",\"Bear R\",\n",
    "                     \"Bull T-1R\",\"Neutral T-1R\",\"Bear T-1R\",\"Bull 4\",\"Neutral 4\",\"Bear 4\",\n",
    "                     \"Bull 12\",\"Neutral 12\",\"Bear 12\",\"Bull-4\",\"Neutral-4\",\"Bear-4\"\n",
    "                    ,\"Bull-12\",\"Neutral-12\",\"Bear-12\",\"Bull 4-12\",\"Neutral 4-12\",\"Bear 4-12\"]\n",
    "sentiment.tail()"
   ]
  },
  {
   "cell_type": "code",
   "execution_count": 20,
   "id": "dada92fd",
   "metadata": {},
   "outputs": [],
   "source": [
    "######################################"
   ]
  },
  {
   "cell_type": "code",
   "execution_count": 21,
   "id": "4e39376e",
   "metadata": {},
   "outputs": [
    {
     "name": "stdout",
     "output_type": "stream",
     "text": [
      "<class 'pandas.core.frame.DataFrame'>\n",
      "DatetimeIndex: 1479 entries, 1993-04-16 to 2022-05-12\n",
      "Data columns (total 28 columns):\n",
      " #   Column        Non-Null Count  Dtype  \n",
      "---  ------        --------------  -----  \n",
      " 0   Bull          1479 non-null   float64\n",
      " 1   Neutral       1479 non-null   float64\n",
      " 2   Bear          1479 non-null   float64\n",
      " 3   Bull R        1479 non-null   float64\n",
      " 4   Neutral R     1479 non-null   float64\n",
      " 5   Bear R        1479 non-null   float64\n",
      " 6   Bull T-1R     1479 non-null   float64\n",
      " 7   Neutral T-1R  1479 non-null   float64\n",
      " 8   Bear T-1R     1479 non-null   float64\n",
      " 9   Bull 4        1479 non-null   float64\n",
      " 10  Neutral 4     1479 non-null   float64\n",
      " 11  Bear 4        1479 non-null   float64\n",
      " 12  Bull 12       1479 non-null   float64\n",
      " 13  Neutral 12    1479 non-null   float64\n",
      " 14  Bear 12       1479 non-null   float64\n",
      " 15  Bull-4        1479 non-null   float64\n",
      " 16  Neutral-4     1479 non-null   float64\n",
      " 17  Bear-4        1479 non-null   float64\n",
      " 18  Bull-12       1479 non-null   float64\n",
      " 19  Neutral-12    1479 non-null   float64\n",
      " 20  Bear-12       1479 non-null   float64\n",
      " 21  Bull 4-12     1479 non-null   float64\n",
      " 22  Neutral 4-12  1479 non-null   float64\n",
      " 23  Bear 4-12     1479 non-null   float64\n",
      " 24  Return        1479 non-null   float64\n",
      " 25  Return C      1479 non-null   float64\n",
      " 26  MReturn       1479 non-null   float64\n",
      " 27  MReturnC      1479 non-null   float64\n",
      "dtypes: float64(28)\n",
      "memory usage: 335.1 KB\n"
     ]
    }
   ],
   "source": [
    "# COMBINING BOTH SPY AND SENTIMENT DFs\n",
    "\n",
    "combo0 = pd.concat([sentiment, output,outputc,moutput,moutputc],axis = 1)\n",
    "combo = combo0.dropna()\n",
    "combo.info()"
   ]
  },
  {
   "cell_type": "code",
   "execution_count": 22,
   "id": "b3a89d89",
   "metadata": {},
   "outputs": [],
   "source": [
    "######################################"
   ]
  },
  {
   "cell_type": "code",
   "execution_count": 23,
   "id": "84704264",
   "metadata": {},
   "outputs": [
    {
     "data": {
      "text/plain": [
       "<AxesSubplot:title={'center':'Distribution of next day modified returns'}, xlabel='MReturn', ylabel='Count'>"
      ]
     },
     "execution_count": 23,
     "metadata": {},
     "output_type": "execute_result"
    },
    {
     "data": {
      "image/png": "[encoded data removed]",
      "text/plain": [
       "<Figure size 1080x576 with 2 Axes>"
      ]
     },
     "metadata": {
      "needs_background": "light"
     },
     "output_type": "display_data"
    }
   ],
   "source": [
    "# PLOTS TO ANALYZE DATA\n",
    "fig,axes = plt.subplots(ncols = 1, nrows =2, sharex = True, figsize = (15,8))\n",
    "axes[0].set_title(\"Distribution of next day returns\")\n",
    "sns.histplot(ax = axes[0],x = combo[\"Return\"], bins = 30)\n",
    "\n",
    "axes[1].set_title(\"Distribution of next day modified returns\")\n",
    "sns.histplot(ax = axes[1],x = combo[\"MReturn\"], bins = 30)"
   ]
  },
  {
   "cell_type": "code",
   "execution_count": 24,
   "id": "37f7fadb",
   "metadata": {},
   "outputs": [
    {
     "data": {
      "image/png": "[encoded data removed]",
      "text/plain": [
       "<Figure size 1080x576 with 2 Axes>"
      ]
     },
     "metadata": {
      "needs_background": "light"
     },
     "output_type": "display_data"
    }
   ],
   "source": [
    "fig,axes = plt.subplots(ncols = 1, nrows =2, figsize = (15,8))\n",
    "axes[0].set_title(\"Distribution of next day returns\")\n",
    "sns.countplot(ax = axes[0],x = combo[\"Return C\"])\n",
    "\n",
    "axes[1].set_title(\"Distribution of next day modified returns\")\n",
    "sns.countplot(ax = axes[1],x = combo[\"MReturnC\"])\n",
    "plt.tight_layout()"
   ]
  },
  {
   "cell_type": "code",
   "execution_count": 25,
   "id": "63e3c684",
   "metadata": {},
   "outputs": [
    {
     "data": {
      "text/plain": [
       "<seaborn.matrix.ClusterGrid at 0x7fe373aa4250>"
      ]
     },
     "execution_count": 25,
     "metadata": {},
     "output_type": "execute_result"
    },
    {
     "data": {
      "image/png": "[encoded data removed]",
      "text/plain": [
       "<Figure size 720x720 with 4 Axes>"
      ]
     },
     "metadata": {
      "needs_background": "light"
     },
     "output_type": "display_data"
    }
   ],
   "source": [
    "sns.clustermap(combo.corr())"
   ]
  },
  {
   "cell_type": "code",
   "execution_count": 26,
   "id": "df22f179",
   "metadata": {
    "scrolled": false
   },
   "outputs": [
    {
     "data": {
      "text/plain": [
       "<AxesSubplot:>"
      ]
     },
     "execution_count": 26,
     "metadata": {},
     "output_type": "execute_result"
    },
    {
     "data": {
      "image/png": "[encoded data removed]",
      "text/plain": [
       "<Figure size 1440x720 with 2 Axes>"
      ]
     },
     "metadata": {
      "needs_background": "light"
     },
     "output_type": "display_data"
    }
   ],
   "source": [
    "plt.figure(figsize = (20,10))\n",
    "sns.heatmap(combo.corr())"
   ]
  },
  {
   "cell_type": "code",
   "execution_count": 27,
   "id": "26fa566a",
   "metadata": {},
   "outputs": [],
   "source": [
    "######################################"
   ]
  },
  {
   "cell_type": "code",
   "execution_count": 28,
   "id": "de93e4b1",
   "metadata": {},
   "outputs": [
    {
     "name": "stdout",
     "output_type": "stream",
     "text": [
      "              precision    recall  f1-score   support\n",
      "\n",
      "         0.0       0.49      0.40      0.44       192\n",
      "         1.0       0.60      0.68      0.64       252\n",
      "\n",
      "    accuracy                           0.56       444\n",
      "   macro avg       0.54      0.54      0.54       444\n",
      "weighted avg       0.55      0.56      0.55       444\n",
      "\n",
      "[[ 77 115]\n",
      " [ 81 171]]\n"
     ]
    }
   ],
   "source": [
    "## LOGISTIC REGRESSION MODEL1: LOGRM1\n",
    "X = combo.drop([\"Return\",\"Return C\",\"MReturn\",\"MReturnC\"],axis = 1)\n",
    "y = combo[\"Return C\"]\n",
    "X_train, X_test, y_train, y_test = train_test_split(X, y, test_size=0.3)\n",
    "lr = LogisticRegression()\n",
    "lr.fit(X_train,y_train)\n",
    "predictions = lr.predict(X_test)\n",
    "print(classification_report(y_test,predictions))\n",
    "print(confusion_matrix(y_test,predictions))"
   ]
  },
  {
   "cell_type": "code",
   "execution_count": 29,
   "id": "8acb018e",
   "metadata": {},
   "outputs": [
    {
     "name": "stdout",
     "output_type": "stream",
     "text": [
      "              precision    recall  f1-score   support\n",
      "\n",
      "         0.0       0.54      0.92      0.68       236\n",
      "         1.0       0.53      0.10      0.17       208\n",
      "\n",
      "    accuracy                           0.54       444\n",
      "   macro avg       0.53      0.51      0.42       444\n",
      "weighted avg       0.53      0.54      0.44       444\n",
      "\n",
      "[[217  19]\n",
      " [187  21]]\n"
     ]
    }
   ],
   "source": [
    "## LOGISTIC REGRESSION MODEL2: LOGRM2\n",
    "X = combo.drop([\"Return\",\"Return C\",\"MReturn\",\"MReturnC\"],axis = 1)\n",
    "y = combo[\"MReturnC\"]\n",
    "X_train, X_test, y_train, y_test = train_test_split(X, y, test_size=0.3)\n",
    "lr = LogisticRegression()\n",
    "lr.fit(X_train,y_train)\n",
    "predictions = lr.predict(X_test)\n",
    "print(classification_report(y_test,predictions))\n",
    "print(confusion_matrix(y_test,predictions))"
   ]
  },
  {
   "cell_type": "code",
   "execution_count": 30,
   "id": "e3e59983",
   "metadata": {},
   "outputs": [],
   "source": [
    "## LINEAR REGRESSION MODEL1: LRM1\n",
    "X = combo.drop([\"Return\",\"Return C\",\"MReturn\",\"MReturnC\"],axis = 1)\n",
    "y = combo[\"Return\"]\n",
    "X_train, X_test, y_train, y_test = train_test_split(X, y, test_size=0.3)\n",
    "lr = LinearRegression()\n",
    "lr.fit(X_train,y_train)\n",
    "predictions = lr.predict(X_test)\n",
    "coef = pd.DataFrame(lr.coef_, X_train.columns, columns = [\"Coef\"])\n",
    "# coef"
   ]
  },
  {
   "cell_type": "code",
   "execution_count": 31,
   "id": "63c69f8d",
   "metadata": {},
   "outputs": [
    {
     "data": {
      "text/plain": [
       "<AxesSubplot:xlabel='Return'>"
      ]
     },
     "execution_count": 31,
     "metadata": {},
     "output_type": "execute_result"
    },
    {
     "data": {
      "image/png": "[encoded data removed]",
      "text/plain": [
       "<Figure size 432x288 with 1 Axes>"
      ]
     },
     "metadata": {
      "needs_background": "light"
     },
     "output_type": "display_data"
    }
   ],
   "source": [
    "# SCATTER OF LRM1 AND ACTUAL\n",
    "sns.scatterplot(y = predictions, x = y_test)"
   ]
  },
  {
   "cell_type": "code",
   "execution_count": 32,
   "id": "8fd08d8f",
   "metadata": {},
   "outputs": [
    {
     "name": "stdout",
     "output_type": "stream",
     "text": [
      "MAE: 0.0061924986961689734\n",
      "MSE: 7.528238208239312e-05\n",
      "RMSE: 0.008676542057893404\n",
      "RRMSE: 22.52332899722606\n"
     ]
    }
   ],
   "source": [
    "# LRM1 METRICS \n",
    "print(\"MAE:\", metrics.mean_absolute_error(y_test,predictions))\n",
    "print(\"MSE:\",metrics.mean_squared_error(y_test,predictions))\n",
    "print(\"RMSE:\",np.sqrt(metrics.mean_squared_error(y_test,predictions)))\n",
    "print(\"RRMSE:\",(np.sqrt(metrics.mean_squared_error(y_test,predictions)))/abs(y_test.mean()))"
   ]
  },
  {
   "cell_type": "code",
   "execution_count": 33,
   "id": "b50a20a7",
   "metadata": {},
   "outputs": [],
   "source": [
    "## LINEAR REGRESSION MODEL2: LRM2\n",
    "X = combo.drop([\"Return\",\"Return C\",\"MReturn\",\"MReturnC\"],axis = 1)\n",
    "y = combo[\"MReturn\"]\n",
    "X_train, X_test, y_train, y_test = train_test_split(X, y, test_size=0.3)\n",
    "lr = LinearRegression()\n",
    "lr.fit(X_train,y_train)\n",
    "predictions = lr.predict(X_test)\n",
    "coef = pd.DataFrame(lr.coef_, X_train.columns, columns = [\"Coef\"])\n",
    "# coef"
   ]
  },
  {
   "cell_type": "code",
   "execution_count": 34,
   "id": "eb3f4228",
   "metadata": {},
   "outputs": [
    {
     "data": {
      "text/plain": [
       "<AxesSubplot:xlabel='MReturn'>"
      ]
     },
     "execution_count": 34,
     "metadata": {},
     "output_type": "execute_result"
    },
    {
     "data": {
      "image/png": "[encoded data removed]",
      "text/plain": [
       "<Figure size 432x288 with 1 Axes>"
      ]
     },
     "metadata": {
      "needs_background": "light"
     },
     "output_type": "display_data"
    }
   ],
   "source": [
    "# SCATTER OF LRM2 AND ACTUAL\n",
    "sns.scatterplot(y = predictions, x = y_test)"
   ]
  },
  {
   "cell_type": "code",
   "execution_count": 35,
   "id": "e5d9a0cd",
   "metadata": {},
   "outputs": [
    {
     "name": "stdout",
     "output_type": "stream",
     "text": [
      "MAE: 0.007352597582487872\n",
      "MSE: 0.00011690011488079137\n",
      "RMSE: 0.010812035649256405\n",
      "RRMSE: 15.63946952419897\n"
     ]
    }
   ],
   "source": [
    "# LRM2 METRICS \n",
    "print(\"MAE:\", metrics.mean_absolute_error(y_test,predictions))\n",
    "print(\"MSE:\",metrics.mean_squared_error(y_test,predictions))\n",
    "print(\"RMSE:\",np.sqrt(metrics.mean_squared_error(y_test,predictions)))\n",
    "print(\"RRMSE:\",(np.sqrt(metrics.mean_squared_error(y_test,predictions)))/abs(y_test.mean()))"
   ]
  },
  {
   "cell_type": "code",
   "execution_count": 36,
   "id": "bc3e592a",
   "metadata": {},
   "outputs": [
    {
     "name": "stdout",
     "output_type": "stream",
     "text": [
      "              precision    recall  f1-score   support\n",
      "\n",
      "         0.0       0.48      0.51      0.49       201\n",
      "         1.0       0.57      0.53      0.55       243\n",
      "\n",
      "    accuracy                           0.52       444\n",
      "   macro avg       0.52      0.52      0.52       444\n",
      "weighted avg       0.53      0.52      0.53       444\n",
      "\n",
      "[[103  98]\n",
      " [113 130]]\n"
     ]
    }
   ],
   "source": [
    "# KNN MODEL 1: KNN1\n",
    "scaler = StandardScaler()\n",
    "scaler.fit(combo.drop([\"Return\",\"Return C\",\"MReturn\",\"MReturnC\"],axis = 1))\n",
    "scaled_features = scaler.transform(combo.drop([\"Return\",\"Return C\",\"MReturn\",\"MReturnC\"],axis = 1))\n",
    "combo_feat = pd.DataFrame(scaled_features, columns = combo.drop([\"Return\",\"Return C\",\"MReturn\",\"MReturnC\"],axis = 1).columns)\n",
    "X = combo_feat\n",
    "y = combo[\"Return C\"]\n",
    "X_train, X_test, y_train, y_test = train_test_split(X, y, test_size=0.3)\n",
    "knn = KNeighborsClassifier(n_neighbors = 1)\n",
    "knn.fit(X_train,y_train)\n",
    "p1 = knn.predict(X_test)\n",
    "print(classification_report(y_test,p1))\n",
    "print(confusion_matrix(y_test,p1))"
   ]
  },
  {
   "cell_type": "code",
   "execution_count": 37,
   "id": "cd64a337",
   "metadata": {},
   "outputs": [
    {
     "data": {
      "text/plain": [
       "Text(0, 0.5, 'Error Rate')"
      ]
     },
     "execution_count": 37,
     "metadata": {},
     "output_type": "execute_result"
    },
    {
     "data": {
      "image/png": "[encoded data removed]",
      "text/plain": [
       "<Figure size 720x432 with 1 Axes>"
      ]
     },
     "metadata": {
      "needs_background": "light"
     },
     "output_type": "display_data"
    }
   ],
   "source": [
    "# KNN1 ELBOW METHOD ADJUSTMENT OF K\n",
    "error_rate = []\n",
    "for i in range (1,100):\n",
    "    knn = KNeighborsClassifier(n_neighbors = i)\n",
    "    knn.fit(X_train,y_train)\n",
    "    p1 = knn.predict(X_test)\n",
    "    error_rate.append(np.mean(p1 != y_test))\n",
    "plt.figure(figsize = (10,6))\n",
    "plt.plot(range(1,100),error_rate, marker = \"o\", markerfacecolor= \"red\", markersize = 10)\n",
    "plt.title(\"K and Error Rate\")\n",
    "plt.xlabel(\"K\")\n",
    "plt.ylabel(\"Error Rate\")"
   ]
  },
  {
   "cell_type": "code",
   "execution_count": 38,
   "id": "0a7527a1",
   "metadata": {},
   "outputs": [
    {
     "name": "stdout",
     "output_type": "stream",
     "text": [
      "              precision    recall  f1-score   support\n",
      "\n",
      "         0.0       0.54      0.43      0.48       201\n",
      "         1.0       0.60      0.70      0.65       243\n",
      "\n",
      "    accuracy                           0.58       444\n",
      "   macro avg       0.57      0.57      0.56       444\n",
      "weighted avg       0.57      0.58      0.57       444\n",
      "\n",
      "[[ 86 115]\n",
      " [ 72 171]]\n"
     ]
    }
   ],
   "source": [
    "# KNN1 Adjusted with K = 39\n",
    "knn = KNeighborsClassifier(n_neighbors = 39)\n",
    "knn.fit(X_train,y_train)\n",
    "p1 = knn.predict(X_test)\n",
    "print(classification_report(y_test,p1))\n",
    "print(confusion_matrix(y_test,p1))"
   ]
  },
  {
   "cell_type": "code",
   "execution_count": 39,
   "id": "6fdc302a",
   "metadata": {},
   "outputs": [
    {
     "name": "stdout",
     "output_type": "stream",
     "text": [
      "              precision    recall  f1-score   support\n",
      "\n",
      "         0.0       0.54      0.51      0.53       245\n",
      "         1.0       0.43      0.46      0.44       199\n",
      "\n",
      "    accuracy                           0.49       444\n",
      "   macro avg       0.49      0.49      0.49       444\n",
      "weighted avg       0.49      0.49      0.49       444\n",
      "\n",
      "[[126 119]\n",
      " [108  91]]\n"
     ]
    }
   ],
   "source": [
    "# KNN MODEL 2: KNN2\n",
    "scaler = StandardScaler()\n",
    "scaler.fit(combo.drop([\"Return\",\"Return C\",\"MReturn\",\"MReturnC\"],axis = 1))\n",
    "scaled_features = scaler.transform(combo.drop([\"Return\",\"Return C\",\"MReturn\",\"MReturnC\"],axis = 1))\n",
    "combo_feat = pd.DataFrame(scaled_features, columns = combo.drop([\"Return\",\"Return C\",\"MReturn\",\"MReturnC\"],axis = 1).columns)\n",
    "X = combo_feat\n",
    "y = combo[\"MReturnC\"]\n",
    "X_train, X_test, y_train, y_test = train_test_split(X, y, test_size=0.3)\n",
    "knn = KNeighborsClassifier(n_neighbors = 1)\n",
    "knn.fit(X_train,y_train)\n",
    "p1 = knn.predict(X_test)\n",
    "print(classification_report(y_test,p1))\n",
    "print(confusion_matrix(y_test,p1))"
   ]
  },
  {
   "cell_type": "code",
   "execution_count": 40,
   "id": "cd9e0a22",
   "metadata": {},
   "outputs": [
    {
     "data": {
      "text/plain": [
       "Text(0, 0.5, 'Error Rate')"
      ]
     },
     "execution_count": 40,
     "metadata": {},
     "output_type": "execute_result"
    },
    {
     "data": {
      "image/png": "[encoded data removed]",
      "text/plain": [
       "<Figure size 720x432 with 1 Axes>"
      ]
     },
     "metadata": {
      "needs_background": "light"
     },
     "output_type": "display_data"
    }
   ],
   "source": [
    "# KNN2 ELBOW METHOD ADJUSTMENT OF K\n",
    "error_rate = []\n",
    "for i in range (1,100):\n",
    "    knn = KNeighborsClassifier(n_neighbors = i)\n",
    "    knn.fit(X_train,y_train)\n",
    "    p1 = knn.predict(X_test)\n",
    "    error_rate.append(np.mean(p1 != y_test))\n",
    "plt.figure(figsize = (10,6))\n",
    "plt.plot(range(1,100),error_rate, marker = \"o\", markerfacecolor= \"red\", markersize = 10)\n",
    "plt.title(\"K and Error Rate\")\n",
    "plt.xlabel(\"K\")\n",
    "plt.ylabel(\"Error Rate\")"
   ]
  },
  {
   "cell_type": "code",
   "execution_count": 41,
   "id": "a7c238e0",
   "metadata": {},
   "outputs": [
    {
     "name": "stdout",
     "output_type": "stream",
     "text": [
      "              precision    recall  f1-score   support\n",
      "\n",
      "         0.0       0.56      0.65      0.60       245\n",
      "         1.0       0.46      0.37      0.41       199\n",
      "\n",
      "    accuracy                           0.52       444\n",
      "   macro avg       0.51      0.51      0.51       444\n",
      "weighted avg       0.52      0.52      0.52       444\n",
      "\n",
      "[[160  85]\n",
      " [126  73]]\n"
     ]
    }
   ],
   "source": [
    "# KNN2 Adjusted with K = 8\n",
    "knn = KNeighborsClassifier(n_neighbors = 8)\n",
    "knn.fit(X_train,y_train)\n",
    "p1 = knn.predict(X_test)\n",
    "print(classification_report(y_test,p1))\n",
    "print(confusion_matrix(y_test,p1))"
   ]
  },
  {
   "cell_type": "code",
   "execution_count": 42,
   "id": "c208e6c0",
   "metadata": {},
   "outputs": [
    {
     "name": "stdout",
     "output_type": "stream",
     "text": [
      "[[113 106]\n",
      " [110 115]]\n",
      "              precision    recall  f1-score   support\n",
      "\n",
      "         0.0       0.51      0.52      0.51       219\n",
      "         1.0       0.52      0.51      0.52       225\n",
      "\n",
      "    accuracy                           0.51       444\n",
      "   macro avg       0.51      0.51      0.51       444\n",
      "weighted avg       0.51      0.51      0.51       444\n",
      "\n"
     ]
    }
   ],
   "source": [
    "# DECISION TREE 1: DT1\n",
    "X = combo.drop([\"Return\",\"Return C\",\"MReturn\",\"MReturnC\"],axis = 1)\n",
    "y = combo[\"Return C\"]\n",
    "X_train, X_test, y_train, y_test = train_test_split(X, y, test_size=0.3)\n",
    "dtree = DecisionTreeClassifier()\n",
    "dtree.fit(X_train,y_train)\n",
    "p1 = dtree.predict(X_test)\n",
    "print(confusion_matrix(y_test,p1))\n",
    "print(classification_report(y_test,p1))"
   ]
  },
  {
   "cell_type": "code",
   "execution_count": 43,
   "id": "f0dfaad9",
   "metadata": {},
   "outputs": [
    {
     "name": "stdout",
     "output_type": "stream",
     "text": [
      "[[ 98 121]\n",
      " [ 89 136]]\n",
      "              precision    recall  f1-score   support\n",
      "\n",
      "         0.0       0.52      0.45      0.48       219\n",
      "         1.0       0.53      0.60      0.56       225\n",
      "\n",
      "    accuracy                           0.53       444\n",
      "   macro avg       0.53      0.53      0.52       444\n",
      "weighted avg       0.53      0.53      0.52       444\n",
      "\n"
     ]
    }
   ],
   "source": [
    "# RANDOM FOREST 1: RF1\n",
    "rf = RandomForestClassifier(n_estimators = 1000)\n",
    "rf.fit(X_train,y_train)\n",
    "p2 = rf.predict(X_test)\n",
    "print(confusion_matrix(y_test,p2))\n",
    "print(classification_report(y_test,p2))"
   ]
  },
  {
   "cell_type": "code",
   "execution_count": 44,
   "id": "93e3b3b9",
   "metadata": {},
   "outputs": [
    {
     "name": "stdout",
     "output_type": "stream",
     "text": [
      "[[127 109]\n",
      " [114  94]]\n",
      "              precision    recall  f1-score   support\n",
      "\n",
      "         0.0       0.53      0.54      0.53       236\n",
      "         1.0       0.46      0.45      0.46       208\n",
      "\n",
      "    accuracy                           0.50       444\n",
      "   macro avg       0.50      0.50      0.49       444\n",
      "weighted avg       0.50      0.50      0.50       444\n",
      "\n"
     ]
    }
   ],
   "source": [
    "# DECISION TREE 2: DT2\n",
    "X = combo.drop([\"Return\",\"Return C\",\"MReturn\",\"MReturnC\"],axis = 1)\n",
    "y = combo[\"MReturnC\"]\n",
    "X_train, X_test, y_train, y_test = train_test_split(X, y, test_size=0.3)\n",
    "dtree = DecisionTreeClassifier()\n",
    "dtree.fit(X_train,y_train)\n",
    "p1 = dtree.predict(X_test)\n",
    "print(confusion_matrix(y_test,p1))\n",
    "print(classification_report(y_test,p1))"
   ]
  },
  {
   "cell_type": "code",
   "execution_count": 45,
   "id": "27f1d5f3",
   "metadata": {},
   "outputs": [
    {
     "name": "stdout",
     "output_type": "stream",
     "text": [
      "[[150  86]\n",
      " [121  87]]\n",
      "              precision    recall  f1-score   support\n",
      "\n",
      "         0.0       0.55      0.64      0.59       236\n",
      "         1.0       0.50      0.42      0.46       208\n",
      "\n",
      "    accuracy                           0.53       444\n",
      "   macro avg       0.53      0.53      0.52       444\n",
      "weighted avg       0.53      0.53      0.53       444\n",
      "\n"
     ]
    }
   ],
   "source": [
    "# RANDOM FOREST 2: RF2\n",
    "rf = RandomForestClassifier(n_estimators = 1000)\n",
    "rf.fit(X_train,y_train)\n",
    "p2 = rf.predict(X_test)\n",
    "print(confusion_matrix(y_test,p2))\n",
    "print(classification_report(y_test,p2))"
   ]
  },
  {
   "cell_type": "code",
   "execution_count": 46,
   "id": "6ee3927b",
   "metadata": {},
   "outputs": [
    {
     "name": "stdout",
     "output_type": "stream",
     "text": [
      "              precision    recall  f1-score   support\n",
      "\n",
      "         0.0       0.58      0.28      0.38       215\n",
      "         1.0       0.55      0.81      0.65       229\n",
      "\n",
      "    accuracy                           0.55       444\n",
      "   macro avg       0.56      0.55      0.51       444\n",
      "weighted avg       0.56      0.55      0.52       444\n",
      "\n",
      "[[ 60 155]\n",
      " [ 43 186]]\n"
     ]
    }
   ],
   "source": [
    "# Support Vector Machine 1: SVM1\n",
    "X = combo.drop([\"Return\",\"Return C\",\"MReturn\",\"MReturnC\"],axis = 1)\n",
    "y = combo[\"Return C\"]\n",
    "X_train, X_test, y_train, y_test = train_test_split(X, y, test_size=0.3)\n",
    "model = SVC()\n",
    "model.fit(X_train,y_train)\n",
    "p1 = model.predict(X_test)\n",
    "print(classification_report(y_test, p1))\n",
    "print(confusion_matrix(y_test,p1))"
   ]
  },
  {
   "cell_type": "code",
   "execution_count": 47,
   "id": "95d98f22",
   "metadata": {},
   "outputs": [
    {
     "name": "stdout",
     "output_type": "stream",
     "text": [
      "Fitting 5 folds for each of 25 candidates, totalling 125 fits\n",
      "[CV 1/5] END ....................C=0.1, gamma=1;, score=0.531 total time=   0.1s\n",
      "[CV 2/5] END ....................C=0.1, gamma=1;, score=0.531 total time=   0.1s\n",
      "[CV 3/5] END ....................C=0.1, gamma=1;, score=0.531 total time=   0.1s\n",
      "[CV 4/5] END ....................C=0.1, gamma=1;, score=0.531 total time=   0.1s\n",
      "[CV 5/5] END ....................C=0.1, gamma=1;, score=0.536 total time=   0.1s\n",
      "[CV 1/5] END ..................C=0.1, gamma=0.1;, score=0.531 total time=   0.1s\n",
      "[CV 2/5] END ..................C=0.1, gamma=0.1;, score=0.531 total time=   0.1s\n",
      "[CV 3/5] END ..................C=0.1, gamma=0.1;, score=0.531 total time=   0.1s\n",
      "[CV 4/5] END ..................C=0.1, gamma=0.1;, score=0.531 total time=   0.1s\n",
      "[CV 5/5] END ..................C=0.1, gamma=0.1;, score=0.536 total time=   0.1s\n",
      "[CV 1/5] END .................C=0.1, gamma=0.01;, score=0.531 total time=   0.1s\n",
      "[CV 2/5] END .................C=0.1, gamma=0.01;, score=0.531 total time=   0.1s\n",
      "[CV 3/5] END .................C=0.1, gamma=0.01;, score=0.531 total time=   0.1s\n",
      "[CV 4/5] END .................C=0.1, gamma=0.01;, score=0.531 total time=   0.1s\n",
      "[CV 5/5] END .................C=0.1, gamma=0.01;, score=0.536 total time=   0.1s\n",
      "[CV 1/5] END ................C=0.1, gamma=0.001;, score=0.531 total time=   0.1s\n",
      "[CV 2/5] END ................C=0.1, gamma=0.001;, score=0.531 total time=   0.1s\n",
      "[CV 3/5] END ................C=0.1, gamma=0.001;, score=0.531 total time=   0.1s\n",
      "[CV 4/5] END ................C=0.1, gamma=0.001;, score=0.531 total time=   0.1s\n",
      "[CV 5/5] END ................C=0.1, gamma=0.001;, score=0.536 total time=   0.1s\n",
      "[CV 1/5] END ...............C=0.1, gamma=0.0001;, score=0.531 total time=   0.1s\n",
      "[CV 2/5] END ...............C=0.1, gamma=0.0001;, score=0.531 total time=   0.1s\n",
      "[CV 3/5] END ...............C=0.1, gamma=0.0001;, score=0.531 total time=   0.1s\n",
      "[CV 4/5] END ...............C=0.1, gamma=0.0001;, score=0.531 total time=   0.1s\n",
      "[CV 5/5] END ...............C=0.1, gamma=0.0001;, score=0.536 total time=   0.1s\n",
      "[CV 1/5] END ......................C=1, gamma=1;, score=0.546 total time=   0.1s\n",
      "[CV 2/5] END ......................C=1, gamma=1;, score=0.541 total time=   0.1s\n",
      "[CV 3/5] END ......................C=1, gamma=1;, score=0.560 total time=   0.1s\n",
      "[CV 4/5] END ......................C=1, gamma=1;, score=0.556 total time=   0.1s\n",
      "[CV 5/5] END ......................C=1, gamma=1;, score=0.517 total time=   0.1s\n",
      "[CV 1/5] END ....................C=1, gamma=0.1;, score=0.522 total time=   0.1s\n",
      "[CV 2/5] END ....................C=1, gamma=0.1;, score=0.517 total time=   0.1s\n",
      "[CV 3/5] END ....................C=1, gamma=0.1;, score=0.531 total time=   0.1s\n",
      "[CV 4/5] END ....................C=1, gamma=0.1;, score=0.541 total time=   0.1s\n",
      "[CV 5/5] END ....................C=1, gamma=0.1;, score=0.527 total time=   0.1s\n",
      "[CV 1/5] END ...................C=1, gamma=0.01;, score=0.531 total time=   0.1s\n",
      "[CV 2/5] END ...................C=1, gamma=0.01;, score=0.531 total time=   0.1s\n",
      "[CV 3/5] END ...................C=1, gamma=0.01;, score=0.531 total time=   0.1s\n",
      "[CV 4/5] END ...................C=1, gamma=0.01;, score=0.531 total time=   0.1s\n",
      "[CV 5/5] END ...................C=1, gamma=0.01;, score=0.536 total time=   0.1s\n",
      "[CV 1/5] END ..................C=1, gamma=0.001;, score=0.531 total time=   0.1s\n",
      "[CV 2/5] END ..................C=1, gamma=0.001;, score=0.531 total time=   0.1s\n",
      "[CV 3/5] END ..................C=1, gamma=0.001;, score=0.531 total time=   0.1s\n",
      "[CV 4/5] END ..................C=1, gamma=0.001;, score=0.531 total time=   0.1s\n",
      "[CV 5/5] END ..................C=1, gamma=0.001;, score=0.536 total time=   0.1s\n",
      "[CV 1/5] END .................C=1, gamma=0.0001;, score=0.531 total time=   0.1s\n",
      "[CV 2/5] END .................C=1, gamma=0.0001;, score=0.531 total time=   0.1s\n",
      "[CV 3/5] END .................C=1, gamma=0.0001;, score=0.531 total time=   0.1s\n",
      "[CV 4/5] END .................C=1, gamma=0.0001;, score=0.531 total time=   0.1s\n",
      "[CV 5/5] END .................C=1, gamma=0.0001;, score=0.536 total time=   0.1s\n",
      "[CV 1/5] END .....................C=10, gamma=1;, score=0.536 total time=   0.1s\n",
      "[CV 2/5] END .....................C=10, gamma=1;, score=0.580 total time=   0.1s\n",
      "[CV 3/5] END .....................C=10, gamma=1;, score=0.546 total time=   0.1s\n",
      "[CV 4/5] END .....................C=10, gamma=1;, score=0.585 total time=   0.1s\n",
      "[CV 5/5] END .....................C=10, gamma=1;, score=0.560 total time=   0.1s\n",
      "[CV 1/5] END ...................C=10, gamma=0.1;, score=0.546 total time=   0.1s\n",
      "[CV 2/5] END ...................C=10, gamma=0.1;, score=0.531 total time=   0.1s\n",
      "[CV 3/5] END ...................C=10, gamma=0.1;, score=0.541 total time=   0.1s\n",
      "[CV 4/5] END ...................C=10, gamma=0.1;, score=0.536 total time=   0.1s\n",
      "[CV 5/5] END ...................C=10, gamma=0.1;, score=0.502 total time=   0.1s\n",
      "[CV 1/5] END ..................C=10, gamma=0.01;, score=0.522 total time=   0.1s\n",
      "[CV 2/5] END ..................C=10, gamma=0.01;, score=0.527 total time=   0.1s\n",
      "[CV 3/5] END ..................C=10, gamma=0.01;, score=0.531 total time=   0.1s\n",
      "[CV 4/5] END ..................C=10, gamma=0.01;, score=0.531 total time=   0.1s\n",
      "[CV 5/5] END ..................C=10, gamma=0.01;, score=0.531 total time=   0.1s\n",
      "[CV 1/5] END .................C=10, gamma=0.001;, score=0.531 total time=   0.1s\n",
      "[CV 2/5] END .................C=10, gamma=0.001;, score=0.531 total time=   0.1s\n",
      "[CV 3/5] END .................C=10, gamma=0.001;, score=0.531 total time=   0.1s\n",
      "[CV 4/5] END .................C=10, gamma=0.001;, score=0.531 total time=   0.1s\n",
      "[CV 5/5] END .................C=10, gamma=0.001;, score=0.536 total time=   0.1s\n",
      "[CV 1/5] END ................C=10, gamma=0.0001;, score=0.531 total time=   0.1s\n",
      "[CV 2/5] END ................C=10, gamma=0.0001;, score=0.531 total time=   0.1s\n",
      "[CV 3/5] END ................C=10, gamma=0.0001;, score=0.531 total time=   0.1s\n",
      "[CV 4/5] END ................C=10, gamma=0.0001;, score=0.531 total time=   0.1s\n",
      "[CV 5/5] END ................C=10, gamma=0.0001;, score=0.536 total time=   0.1s\n",
      "[CV 1/5] END ....................C=100, gamma=1;, score=0.517 total time=   0.1s\n",
      "[CV 2/5] END ....................C=100, gamma=1;, score=0.580 total time=   0.1s\n",
      "[CV 3/5] END ....................C=100, gamma=1;, score=0.575 total time=   0.1s\n",
      "[CV 4/5] END ....................C=100, gamma=1;, score=0.589 total time=   0.1s\n",
      "[CV 5/5] END ....................C=100, gamma=1;, score=0.551 total time=   0.1s\n",
      "[CV 1/5] END ..................C=100, gamma=0.1;, score=0.546 total time=   0.1s\n",
      "[CV 2/5] END ..................C=100, gamma=0.1;, score=0.546 total time=   0.1s\n",
      "[CV 3/5] END ..................C=100, gamma=0.1;, score=0.560 total time=   0.1s\n",
      "[CV 4/5] END ..................C=100, gamma=0.1;, score=0.560 total time=   0.1s\n",
      "[CV 5/5] END ..................C=100, gamma=0.1;, score=0.536 total time=   0.1s\n",
      "[CV 1/5] END .................C=100, gamma=0.01;, score=0.527 total time=   0.1s\n",
      "[CV 2/5] END .................C=100, gamma=0.01;, score=0.546 total time=   0.1s\n",
      "[CV 3/5] END .................C=100, gamma=0.01;, score=0.556 total time=   0.1s\n",
      "[CV 4/5] END .................C=100, gamma=0.01;, score=0.522 total time=   0.1s\n",
      "[CV 5/5] END .................C=100, gamma=0.01;, score=0.493 total time=   0.1s\n",
      "[CV 1/5] END ................C=100, gamma=0.001;, score=0.522 total time=   0.1s\n",
      "[CV 2/5] END ................C=100, gamma=0.001;, score=0.527 total time=   0.1s\n",
      "[CV 3/5] END ................C=100, gamma=0.001;, score=0.531 total time=   0.1s\n",
      "[CV 4/5] END ................C=100, gamma=0.001;, score=0.531 total time=   0.1s\n",
      "[CV 5/5] END ................C=100, gamma=0.001;, score=0.527 total time=   0.1s\n",
      "[CV 1/5] END ...............C=100, gamma=0.0001;, score=0.531 total time=   0.1s\n",
      "[CV 2/5] END ...............C=100, gamma=0.0001;, score=0.531 total time=   0.1s\n",
      "[CV 3/5] END ...............C=100, gamma=0.0001;, score=0.531 total time=   0.1s\n",
      "[CV 4/5] END ...............C=100, gamma=0.0001;, score=0.531 total time=   0.1s\n",
      "[CV 5/5] END ...............C=100, gamma=0.0001;, score=0.536 total time=   0.1s\n",
      "[CV 1/5] END ...................C=1000, gamma=1;, score=0.541 total time=   0.6s\n"
     ]
    },
    {
     "name": "stdout",
     "output_type": "stream",
     "text": [
      "[CV 2/5] END ...................C=1000, gamma=1;, score=0.570 total time=   0.5s\n",
      "[CV 3/5] END ...................C=1000, gamma=1;, score=0.536 total time=   0.5s\n",
      "[CV 4/5] END ...................C=1000, gamma=1;, score=0.527 total time=   0.5s\n",
      "[CV 5/5] END ...................C=1000, gamma=1;, score=0.556 total time=   0.5s\n",
      "[CV 1/5] END .................C=1000, gamma=0.1;, score=0.531 total time=   0.1s\n",
      "[CV 2/5] END .................C=1000, gamma=0.1;, score=0.536 total time=   0.1s\n",
      "[CV 3/5] END .................C=1000, gamma=0.1;, score=0.570 total time=   0.1s\n",
      "[CV 4/5] END .................C=1000, gamma=0.1;, score=0.551 total time=   0.1s\n",
      "[CV 5/5] END .................C=1000, gamma=0.1;, score=0.527 total time=   0.1s\n",
      "[CV 1/5] END ................C=1000, gamma=0.01;, score=0.575 total time=   0.1s\n",
      "[CV 2/5] END ................C=1000, gamma=0.01;, score=0.531 total time=   0.1s\n",
      "[CV 3/5] END ................C=1000, gamma=0.01;, score=0.551 total time=   0.1s\n",
      "[CV 4/5] END ................C=1000, gamma=0.01;, score=0.551 total time=   0.1s\n",
      "[CV 5/5] END ................C=1000, gamma=0.01;, score=0.517 total time=   0.1s\n",
      "[CV 1/5] END ...............C=1000, gamma=0.001;, score=0.531 total time=   0.1s\n",
      "[CV 2/5] END ...............C=1000, gamma=0.001;, score=0.556 total time=   0.1s\n",
      "[CV 3/5] END ...............C=1000, gamma=0.001;, score=0.541 total time=   0.1s\n",
      "[CV 4/5] END ...............C=1000, gamma=0.001;, score=0.522 total time=   0.1s\n",
      "[CV 5/5] END ...............C=1000, gamma=0.001;, score=0.488 total time=   0.1s\n",
      "[CV 1/5] END ..............C=1000, gamma=0.0001;, score=0.522 total time=   0.1s\n",
      "[CV 2/5] END ..............C=1000, gamma=0.0001;, score=0.527 total time=   0.1s\n",
      "[CV 3/5] END ..............C=1000, gamma=0.0001;, score=0.531 total time=   0.1s\n",
      "[CV 4/5] END ..............C=1000, gamma=0.0001;, score=0.531 total time=   0.1s\n",
      "[CV 5/5] END ..............C=1000, gamma=0.0001;, score=0.527 total time=   0.1s\n",
      "              precision    recall  f1-score   support\n",
      "\n",
      "         0.0       0.53      0.38      0.44       215\n",
      "         1.0       0.54      0.69      0.61       229\n",
      "\n",
      "    accuracy                           0.54       444\n",
      "   macro avg       0.54      0.53      0.52       444\n",
      "weighted avg       0.54      0.54      0.53       444\n",
      "\n",
      "[[ 81 134]\n",
      " [ 71 158]]\n"
     ]
    }
   ],
   "source": [
    "# Grid Search\n",
    "param_grid = {\"C\":[.1,1,10,100,1000],\"gamma\":[1,.1,.01,.001,.0001]}\n",
    "grid = GridSearchCV(SVC(), param_grid,verbose = 3)\n",
    "grid.fit(X_train,y_train)\n",
    "grid_predictions = grid.predict(X_test)\n",
    "print(classification_report(y_test, grid_predictions))\n",
    "print(confusion_matrix(y_test,grid_predictions))"
   ]
  },
  {
   "cell_type": "code",
   "execution_count": null,
   "id": "856044b8",
   "metadata": {},
   "outputs": [],
   "source": []
  }
 ],
 "metadata": {
  "kernelspec": {
   "display_name": "Python 3 (ipykernel)",
   "language": "python",
   "name": "python3"
  },
  "language_info": {
   "codemirror_mode": {
    "name": "ipython",
    "version": 3
   },
   "file_extension": ".py",
   "mimetype": "text/x-python",
   "name": "python",
   "nbconvert_exporter": "python",
   "pygments_lexer": "ipython3",
   "version": "3.9.7"
  }
 },
 "nbformat": 4,
 "nbformat_minor": 5
}
